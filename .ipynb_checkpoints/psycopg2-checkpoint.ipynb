{
 "cells": [
  {
   "cell_type": "code",
   "execution_count": 2,
   "id": "819378b4-f34c-4175-a714-34b7a53929db",
   "metadata": {},
   "outputs": [
    {
     "name": "stdout",
     "output_type": "stream",
     "text": [
      "Requirement already satisfied: psycopg2 in c:\\users\\dbwjd\\anaconda3\\lib\\site-packages (2.9.10)\n",
      "Note: you may need to restart the kernel to use updated packages.\n"
     ]
    }
   ],
   "source": [
    "pip install psycopg2"
   ]
  },
  {
   "cell_type": "code",
   "execution_count": 4,
   "id": "26579464-e0eb-4e1e-b403-a0c327747115",
   "metadata": {},
   "outputs": [
    {
     "name": "stdout",
     "output_type": "stream",
     "text": [
      "2.9.10 (dt dec pq3 ext lo64)\n"
     ]
    }
   ],
   "source": [
    "import psycopg2\n",
    "print(psycopg2.__version__)"
   ]
  },
  {
   "cell_type": "code",
   "execution_count": 23,
   "id": "10cdceb6-85ce-4da3-b112-9d410ef22ba8",
   "metadata": {},
   "outputs": [],
   "source": [
    "# Connect to your postgres DB\n",
    "conn = psycopg2.connect(\n",
    "    dbname=\"testdb\",\n",
    "    user=\"postgres\",\n",
    "    password=\"2617\",\n",
    "    host=\"localhost\",\n",
    "    port=\"5432\"\n",
    ")\n",
    "\n",
    "# Open a cursor to perform database operations\n",
    "cur =  conn.cursor()"
   ]
  },
  {
   "cell_type": "code",
   "execution_count": 25,
   "id": "bebcf80b-6d56-47dc-8e80-a8b75b9130f6",
   "metadata": {},
   "outputs": [],
   "source": [
    "# Create a new table\n",
    "cur.execute(\"\"\"\n",
    "CREATE TABLE test(\n",
    "    id SERIAL PRIMARY KEY,\n",
    "    num integer,\n",
    "    data varchar\n",
    ")\n",
    "\"\"\")\n",
    "\n",
    "# Commit the changes\n",
    "conn.commit()"
   ]
  },
  {
   "cell_type": "code",
   "execution_count": 33,
   "id": "a2a76fb1-9be0-4210-b1c4-3c1af5101182",
   "metadata": {},
   "outputs": [],
   "source": [
    "# Insert data into the table\n",
    "cur.execute(\"INSERT INTO test (num, data) VALUES (%s, %s)\",\n",
    "            (100, \"abc'def\"))\n",
    "\n",
    "# Commit the changes\n",
    "conn.commit()"
   ]
  },
  {
   "cell_type": "code",
   "execution_count": 41,
   "id": "1b2404e1-f128-44dc-8671-1b82f04a8e64",
   "metadata": {},
   "outputs": [
    {
     "name": "stdout",
     "output_type": "stream",
     "text": [
      "(1, 100, \"abc'def\")\n"
     ]
    }
   ],
   "source": [
    "# Query the database\n",
    "cur.execute(\"SELECT * FROM test;\")\n",
    "rows = cur.fetchall()\n",
    "\n",
    "# Print all rows\n",
    "for row in rows:\n",
    "    print(row)"
   ]
  },
  {
   "cell_type": "code",
   "execution_count": 37,
   "id": "e49153f4-679c-4864-bbbb-f52955865f2f",
   "metadata": {},
   "outputs": [],
   "source": [
    "cur.execute(\"DELETE FROM test WHERE id = 2\")"
   ]
  },
  {
   "cell_type": "code",
   "execution_count": 39,
   "id": "bfdd30b1-61c7-4870-a825-4505bfb93fff",
   "metadata": {},
   "outputs": [],
   "source": [
    "conn.commit()"
   ]
  },
  {
   "cell_type": "code",
   "execution_count": 43,
   "id": "39a88eec-53bb-46f6-b8fe-8872e1c54f3b",
   "metadata": {},
   "outputs": [],
   "source": [
    "# Close communication with the database\n",
    "cur.close()\n",
    "conn.close()"
   ]
  },
  {
   "cell_type": "code",
   "execution_count": 83,
   "id": "d8ddd78b-e918-4910-89f7-f02b64806140",
   "metadata": {},
   "outputs": [],
   "source": [
    "# Connect to your postgres DB\n",
    "conn = psycopg2.connect(\n",
    "    dbname=\"testdb\",\n",
    "    user=\"postgres\",\n",
    "    password=\"2617\",\n",
    "    host=\"localhost\",\n",
    "    port=\"5432\"\n",
    ")\n",
    "\n",
    "# Open a cursor to perform database operations\n",
    "cur =  conn.cursor()"
   ]
  },
  {
   "cell_type": "code",
   "execution_count": 53,
   "id": "a52f0865-e0b8-4600-8d55-b2a3363c613f",
   "metadata": {},
   "outputs": [],
   "source": [
    "# Create a  new table named departments\n",
    "cur. execute(\"\"\"\n",
    "CREATE TABLE departments(\n",
    "    id INT PRIMARY KEY,\n",
    "    name Text\n",
    ")\n",
    "\"\"\")\n",
    "\n",
    "conn.commit()"
   ]
  },
  {
   "cell_type": "code",
   "execution_count": 55,
   "id": "ec3c7c37-29c1-4812-9497-81bff6a650d7",
   "metadata": {},
   "outputs": [],
   "source": [
    "# Insert data into the table\n",
    "rows= [\n",
    "    (1, \"Sales\"),\n",
    "    (2, \"Finance\"),\n",
    "    (3, \"Legal\"),\n",
    "]\n",
    "\n",
    "cur.executemany(\"INSERT INTO departments (id, name) VALUES (%s, %s)\", rows)\n",
    "\n",
    "conn.commit()"
   ]
  },
  {
   "cell_type": "code",
   "execution_count": 85,
   "id": "0295f260-9870-4590-af50-b1514f62787a",
   "metadata": {},
   "outputs": [
    {
     "name": "stdout",
     "output_type": "stream",
     "text": [
      "(2, 'Bob', 26, 'Engineerting')\n",
      "(3, 'Charlie', 33, 'Marketing')\n"
     ]
    }
   ],
   "source": [
    "# Query data from both tables\n",
    "\n",
    "try:\n",
    "    cur.execute(\"SELECT * FROM employees;\")\n",
    "    employee_rows = cur.fetchall()\n",
    "    for row in employee_rows:\n",
    "        print(row)\n",
    "    \n",
    "except Exception as e:\n",
    "    print(\"Error:\", e)\n",
    "    conn.rollback()\n"
   ]
  },
  {
   "cell_type": "code",
   "execution_count": 65,
   "id": "e316d347-aa79-4670-ae73-631b986b031b",
   "metadata": {},
   "outputs": [
    {
     "name": "stdout",
     "output_type": "stream",
     "text": [
      "(1, 'Sales')\n",
      "(2, 'Finance')\n",
      "(3, 'Legal')\n"
     ]
    }
   ],
   "source": [
    "cur.execute(\"SELECT * FROM departments;\")\n",
    "department_rows = cur.fetchall()\n",
    "\n",
    "for row in department_rows:\n",
    "    print(row)"
   ]
  },
  {
   "cell_type": "code",
   "execution_count": 69,
   "id": "2887e1ae-4e30-422b-82b7-f43136442047",
   "metadata": {},
   "outputs": [],
   "source": [
    "# update the age\n",
    "cur.execute(\"\"\"\n",
    "UPDATE employees\n",
    "SET age = 32\n",
    "WHERE id = 1;\n",
    "\"\"\")\n",
    "\n",
    "cur.execute(\"\"\"\n",
    "UPDATE employees\n",
    "SET age = 26\n",
    "WHERE id = 2;\n",
    "\"\"\")\n",
    "\n",
    "cur.execute(\"\"\"\n",
    "UPDATE employees\n",
    "SET age = 33\n",
    "WHERE id = 3;\n",
    "\"\"\")\n",
    "\n",
    "conn.commit()"
   ]
  },
  {
   "cell_type": "code",
   "execution_count": 71,
   "id": "dc6b71b6-8172-44a6-b565-2ad93de54378",
   "metadata": {},
   "outputs": [],
   "source": [
    "# delete a record from the employees table\n",
    "cur.execute(\"\"\"\n",
    "DELETE FROM employees\n",
    "WHERE id = 1;\n",
    "\"\"\")\n",
    "\n",
    "conn.commit()"
   ]
  },
  {
   "cell_type": "code",
   "execution_count": 87,
   "id": "6f7a5eba-d390-4a69-ad45-adb7e77b57d7",
   "metadata": {},
   "outputs": [],
   "source": [
    "# close communication with the database\n",
    "cur.close()\n",
    "conn.close()"
   ]
  },
  {
   "cell_type": "code",
   "execution_count": null,
   "id": "6456e6d6-355e-4e08-b768-ada68b44f3c4",
   "metadata": {},
   "outputs": [],
   "source": []
  }
 ],
 "metadata": {
  "kernelspec": {
   "display_name": "Python 3 (ipykernel)",
   "language": "python",
   "name": "python3"
  },
  "language_info": {
   "codemirror_mode": {
    "name": "ipython",
    "version": 3
   },
   "file_extension": ".py",
   "mimetype": "text/x-python",
   "name": "python",
   "nbconvert_exporter": "python",
   "pygments_lexer": "ipython3",
   "version": "3.12.4"
  }
 },
 "nbformat": 4,
 "nbformat_minor": 5
}
